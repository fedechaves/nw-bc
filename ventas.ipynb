{
  "nbformat": 4,
  "nbformat_minor": 0,
  "metadata": {
    "colab": {
      "provenance": [],
      "mount_file_id": "1bQgpZZyHvHS_gaLvS_kEiuPxGa5NBmsp",
      "authorship_tag": "ABX9TyNiVLTw40uVTulwPPZVct9h",
      "include_colab_link": true
    },
    "kernelspec": {
      "name": "python3",
      "display_name": "Python 3"
    },
    "language_info": {
      "name": "python"
    }
  },
  "cells": [
    {
      "cell_type": "markdown",
      "metadata": {
        "id": "view-in-github",
        "colab_type": "text"
      },
      "source": [
        "<a href=\"https://colab.research.google.com/github/fedechaves/nw-bc/blob/main/ventas.ipynb\" target=\"_parent\"><img src=\"https://colab.research.google.com/assets/colab-badge.svg\" alt=\"Open In Colab\"/></a>"
      ]
    },
    {
      "cell_type": "markdown",
      "source": [
        "# Calculo de ventas"
      ],
      "metadata": {
        "id": "QWp8JplJdGOv"
      }
    },
    {
      "cell_type": "code",
      "execution_count": 1,
      "metadata": {
        "id": "1Ya9V4dgdFKc"
      },
      "outputs": [],
      "source": [
        "import os\n",
        "import pandas as pd\n",
        "import matplotlib.pyplot as plt\n",
        "import seaborn as sns"
      ]
    },
    {
      "cell_type": "code",
      "source": [
        "os.listdir('/content/drive/MyDrive/nw_bc/')"
      ],
      "metadata": {
        "colab": {
          "base_uri": "https://localhost:8080/"
        },
        "id": "zTF0YUlwdiVL",
        "outputId": "766dc3c4-4cb4-45ff-efdb-6fb9a81be3a1"
      },
      "execution_count": 17,
      "outputs": [
        {
          "output_type": "execute_result",
          "data": {
            "text/plain": [
              "['nw-version-reds.xlsx',\n",
              " 'Copia de nw-version-reds.xlsx',\n",
              " 'mats',\n",
              " 'ANALISIS_F_2016.xlsx']"
            ]
          },
          "metadata": {},
          "execution_count": 17
        }
      ]
    },
    {
      "cell_type": "code",
      "source": [
        "xls = pd.ExcelFile('/content/drive/MyDrive/nw_bc/ANALISIS_F_2016.xlsx')\n",
        "df1 = pd.read_excel(xls, 'DATOS')"
      ],
      "metadata": {
        "id": "9dFYN937f46p"
      },
      "execution_count": 18,
      "outputs": []
    },
    {
      "cell_type": "code",
      "source": [
        "df1.columns"
      ],
      "metadata": {
        "colab": {
          "base_uri": "https://localhost:8080/"
        },
        "id": "ji7OmzOBm2XS",
        "outputId": "08cc002c-83dd-4fbb-c85e-e7f997d0a02f"
      },
      "execution_count": 22,
      "outputs": [
        {
          "output_type": "execute_result",
          "data": {
            "text/plain": [
              "Index(['Fecha Emision', 'Vendedor', 'Apellido y Nombre', 'Cod Factura',\n",
              "       'Cond Venta', 'DescripcionVta', 'Remito', 'Comprobante', 'Cantidad',\n",
              "       'Importe', 'Total', 'Cliente', 'Razon Social', 'RUC', 'Direccion',\n",
              "       'Ciudad', 'Departamento', 'Equivalencia', 'Agrupamiento', 'Marca',\n",
              "       'Articulo', 'Descripcion', 'PUC', 'Proveedor', 'Articulo Proveedor',\n",
              "       'MES NRO', 'QUARTER', 'SEMESTRE', 'MES', 'AÑO', 'MESAÑO', 'SEMANA',\n",
              "       'SUC', 'CLIENTEYRS', 'DESCRIPYCOD', 'CODYDESCRIP', 'LUCRO ABS',\n",
              "       'LUCRO REL', 'CANTREAL', 'COSTO BRUTO', 'VENTAREAL', 'IVA INCLUIDO',\n",
              "       'UNIT IVA INC', 'IVA'],\n",
              "      dtype='object')"
            ]
          },
          "metadata": {},
          "execution_count": 22
        }
      ]
    }
  ]
}